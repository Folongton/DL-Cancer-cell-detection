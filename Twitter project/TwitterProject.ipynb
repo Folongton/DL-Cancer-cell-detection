{
 "cells": [
  {
   "cell_type": "markdown",
   "id": "91039f7c-4705-45ef-93f9-c84bcfcde8f7",
   "metadata": {
    "tags": []
   },
   "source": [
    "# Deep Learning Project\n",
    "\n",
    "You have developed a model in your NLP session to predict the topic of tweets by examining the text content of the postings. In this project, you will create a model to classify the topic of pictures used in the tweets to help predict the topic of the tweets later. Your model from the NLP session and this one later can be used to predict a tweet's topic by examining both textual and the visual content of the postings.\n",
    "\n",
    "You will first execute Step 1 to pull the images from the corresponding URL address of each image contained in the tweets. These images are already labeled manually by human editors in terms of whether the images belong to `Nature` topic or not. The label `1` means the image belongs to the nature topic and `2` means otherwise.\n",
    "\n",
    "In Step 2, you will create a classification algorithm. Please divide the dataset into train and test datasets. You may use your train dataset to validate the accuracy of your model when tuning up the hyperparametrs of your model. After finalizing training your model, test it on your test dataset and report its accuracy. You may use different accuracy metrics. "
   ]
  },
  {
   "cell_type": "markdown",
   "id": "7fd5ea30-2ce8-42bd-8139-d8b6ee492fca",
   "metadata": {
    "tags": []
   },
   "source": [
    "## Step 1: Download the images\n"
   ]
  },
  {
   "cell_type": "code",
   "execution_count": null,
   "id": "e8a52e99-e1fa-496a-aa10-35babc3d8fd5",
   "metadata": {},
   "outputs": [
    {
     "data": {
      "text/html": [
       "<div>\n",
       "<style scoped>\n",
       "    .dataframe tbody tr th:only-of-type {\n",
       "        vertical-align: middle;\n",
       "    }\n",
       "\n",
       "    .dataframe tbody tr th {\n",
       "        vertical-align: top;\n",
       "    }\n",
       "\n",
       "    .dataframe thead th {\n",
       "        text-align: right;\n",
       "    }\n",
       "</style>\n",
       "<table border=\"1\" class=\"dataframe\">\n",
       "  <thead>\n",
       "    <tr style=\"text-align: right;\">\n",
       "      <th></th>\n",
       "      <th>tweetID</th>\n",
       "      <th>edInput</th>\n",
       "      <th>text</th>\n",
       "      <th>photoUrl</th>\n",
       "    </tr>\n",
       "  </thead>\n",
       "  <tbody>\n",
       "    <tr>\n",
       "      <th>1</th>\n",
       "      <td>1078532698833125376</td>\n",
       "      <td>1</td>\n",
       "      <td>THIS IS SO PRETTY!! IM IN LOVE!!! 💛🌻 https://t...</td>\n",
       "      <td>https://pbs.twimg.com/media/Dve3xYzW0AADqpF.jpg</td>\n",
       "    </tr>\n",
       "    <tr>\n",
       "      <th>3</th>\n",
       "      <td>1081596185201111040</td>\n",
       "      <td>1</td>\n",
       "      <td>Sunset on palouse, Washington https://t.co/zuj...</td>\n",
       "      <td>https://pbs.twimg.com/media/DwFG9AFWkAIHisl.jpg</td>\n",
       "    </tr>\n",
       "    <tr>\n",
       "      <th>4</th>\n",
       "      <td>1081597837585059840</td>\n",
       "      <td>1</td>\n",
       "      <td>Dawn breaking viewed from across the Douglas V...</td>\n",
       "      <td>https://pbs.twimg.com/media/DwKbdY_X4AE-QVd.jpg</td>\n",
       "    </tr>\n",
       "    <tr>\n",
       "      <th>5</th>\n",
       "      <td>1081603176539799555</td>\n",
       "      <td>1</td>\n",
       "      <td>Venice, Italy 🇮🇹 https://t.co/cDOSBxVr6T</td>\n",
       "      <td>https://pbs.twimg.com/media/DwKgSnRX4AAawgD.jpg</td>\n",
       "    </tr>\n",
       "    <tr>\n",
       "      <th>6</th>\n",
       "      <td>1081607391467237377</td>\n",
       "      <td>1</td>\n",
       "      <td>Mackenzie Mountains\\nCanada \\n\\nby Marc Adamus...</td>\n",
       "      <td>https://pbs.twimg.com/media/DwKkLrxX0AInQIl.jpg</td>\n",
       "    </tr>\n",
       "  </tbody>\n",
       "</table>\n",
       "</div>"
      ],
      "text/plain": [
       "               tweetID  edInput  \\\n",
       "1  1078532698833125376        1   \n",
       "3  1081596185201111040        1   \n",
       "4  1081597837585059840        1   \n",
       "5  1081603176539799555        1   \n",
       "6  1081607391467237377        1   \n",
       "\n",
       "                                                text  \\\n",
       "1  THIS IS SO PRETTY!! IM IN LOVE!!! 💛🌻 https://t...   \n",
       "3  Sunset on palouse, Washington https://t.co/zuj...   \n",
       "4  Dawn breaking viewed from across the Douglas V...   \n",
       "5           Venice, Italy 🇮🇹 https://t.co/cDOSBxVr6T   \n",
       "6  Mackenzie Mountains\\nCanada \\n\\nby Marc Adamus...   \n",
       "\n",
       "                                          photoUrl  \n",
       "1  https://pbs.twimg.com/media/Dve3xYzW0AADqpF.jpg  \n",
       "3  https://pbs.twimg.com/media/DwFG9AFWkAIHisl.jpg  \n",
       "4  https://pbs.twimg.com/media/DwKbdY_X4AE-QVd.jpg  \n",
       "5  https://pbs.twimg.com/media/DwKgSnRX4AAawgD.jpg  \n",
       "6  https://pbs.twimg.com/media/DwKkLrxX0AInQIl.jpg  "
      ]
     },
     "execution_count": 5,
     "metadata": {},
     "output_type": "execute_result"
    }
   ],
   "source": [
    "#A sample from the data\n",
    "#df.head()"
   ]
  },
  {
   "cell_type": "markdown",
   "id": "3124b18c-b780-4d90-bdc9-f8ffb2f3c637",
   "metadata": {},
   "source": [
    "## Step 2: Classifier\n",
    "\n",
    "Develop a classifier for two categories. Create the necessary folders for the test and train datasets. Either create your own model or tranfer a model and revise it. Make sure you incorporate regularization, callbacks, etc., and use data augmentation. Since images may not be so distinct with respect to their categories, you may not get the same kind of performance you had in your assignments."
   ]
  },
  {
   "cell_type": "code",
   "execution_count": null,
   "id": "690cff5b-0a25-434a-9961-ed17ab7ea3ee",
   "metadata": {},
   "outputs": [],
   "source": []
  }
 ],
 "metadata": {
  "kernelspec": {
   "display_name": "Python 3 (ipykernel)",
   "language": "python",
   "name": "python3"
  },
  "language_info": {
   "codemirror_mode": {
    "name": "ipython",
    "version": 3
   },
   "file_extension": ".py",
   "mimetype": "text/x-python",
   "name": "python",
   "nbconvert_exporter": "python",
   "pygments_lexer": "ipython3",
   "version": "3.9.15"
  }
 },
 "nbformat": 4,
 "nbformat_minor": 5
}
